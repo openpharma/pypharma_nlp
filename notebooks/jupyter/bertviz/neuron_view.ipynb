{
 "cells": [
  {
   "cell_type": "code",
   "execution_count": null,
   "metadata": {},
   "outputs": [],
   "source": [
    "from pypharma_nlp.bertviz.pytorch_transformers_attn import BertModel\n",
    "from pypharma_nlp.bertviz.pytorch_transformers_attn import BertTokenizer\n",
    "from pypharma_nlp.bertviz.neuron_view_bert import show as show_neuron\n",
    "from pypharma_nlp.bertviz.colab import configure_plotly_browser_state_neuron"
   ]
  },
  {
   "cell_type": "code",
   "execution_count": null,
   "metadata": {},
   "outputs": [],
   "source": [
    "%%javascript\n",
    "require.config({\n",
    "  paths: {\n",
    "      d3: '//cdnjs.cloudflare.com/ajax/libs/d3/5.7.0/d3.min',\n",
    "    jquery: '//ajax.googleapis.com/ajax/libs/jquery/2.0.0/jquery.min',\n",
    "  }\n",
    "});"
   ]
  },
  {
   "cell_type": "code",
   "execution_count": null,
   "metadata": {},
   "outputs": [],
   "source": [
    "# We can use bertviz (by Jesse Vig) to visualize the internals of BERT\n",
    "#\n",
    "# Load the model\n",
    "\n",
    "bert_version = 'bert-base-uncased'\n",
    "do_lower_case = True\n",
    "model = BertModel.from_pretrained(bert_version)\n",
    "tokenizer = BertTokenizer.from_pretrained(bert_version, do_lower_case=do_lower_case)"
   ]
  },
  {
   "cell_type": "code",
   "execution_count": null,
   "metadata": {},
   "outputs": [],
   "source": [
    "# Head view\n",
    "\n",
    "\n",
    "sentence_1 = \"A de novo mutation in the EGFR gene can cause lung cancer.\"\n",
    "sentence_2 = \"EGFR TKIs are used for clinical treatment of lung cancers.\"\n",
    "\n",
    "#configure_plotly_browser_state_neuron()\n",
    "show_neuron(model, tokenizer, sentence_1, sentence_2)"
   ]
  }
 ],
 "metadata": {
  "kernelspec": {
   "display_name": "pypharma-nlp-2019",
   "language": "python",
   "name": "pypharma-nlp-2019"
  },
  "language_info": {
   "codemirror_mode": {
    "name": "ipython",
    "version": 3
   },
   "file_extension": ".py",
   "mimetype": "text/x-python",
   "name": "python",
   "nbconvert_exporter": "python",
   "pygments_lexer": "ipython3",
   "version": "3.6.7"
  }
 },
 "nbformat": 4,
 "nbformat_minor": 2
}
